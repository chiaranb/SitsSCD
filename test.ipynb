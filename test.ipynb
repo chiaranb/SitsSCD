{
 "cells": [
  {
   "cell_type": "code",
   "execution_count": null,
   "id": "60d52366",
   "metadata": {},
   "outputs": [],
   "source": [
    "import dask.dataframe as dd\n",
    "\n",
    "# Legge il CSV come Dask DataFrame\n",
    "ddf = dd.read_csv(\"/teamspace/studios/this_studio/SitsSCD/embeddings.csv\")\n",
    "\n",
    "# Esegue l’ordinamento distribuito\n",
    "ddf = ddf.sort_values(by=[\"timestamp\", \"idx\", \"sits_id\"])\n",
    "\n",
    "# Scrive il risultato\n",
    "ddf.to_csv(\"/teamspace/studios/this_studio/SitsSCD/embeddings_sorted.csv\", index=False, single_file=True)\n",
    "print(\"✅ Ordinamento completato con Dask\")"
   ]
  },
  {
   "cell_type": "code",
   "execution_count": 5,
   "id": "9d342b7f",
   "metadata": {},
   "outputs": [
    {
     "name": "stdout",
     "output_type": "stream",
     "text": [
      "✅ Numero di righe nel file ordinato: 230400\n"
     ]
    }
   ],
   "source": [
    "import pandas as pd\n",
    "\n",
    "# Count number of rows\n",
    "df = pd.read_csv(\"/teamspace/studios/this_studio/SitsSCD/embeddings_sorted.csv\")\n",
    "num_rows = len(df)\n",
    "print(f\"✅ Numero di righe nel file ordinato: {num_rows}\")"
   ]
  },
  {
   "cell_type": "code",
   "execution_count": 2,
   "id": "16125054",
   "metadata": {},
   "outputs": [],
   "source": [
    "import zipfile\n",
    "import os\n",
    "\n",
    "zip_path = \"/teamspace/studios/this_studio/SitsSCD/embeddings_test.zip\"\n",
    "extract_dir = \"/teamspace/studios/this_studio/SitsSCD/\"\n",
    "\n",
    "with zipfile.ZipFile(zip_path, 'r') as zip_ref:\n",
    "    zip_ref.extractall(extract_dir)\n",
    "\n",
    "# Rinominare il file estratto\n",
    "old_file = os.path.join(extract_dir, \"embeddings_test.csv\")\n",
    "new_file = os.path.join(extract_dir, \"embeddings.csv\")\n",
    "os.rename(old_file, new_file)"
   ]
  },
  {
   "cell_type": "code",
   "execution_count": 4,
   "id": "94bfdaea",
   "metadata": {},
   "outputs": [
    {
     "name": "stdout",
     "output_type": "stream",
     "text": [
      "Downloading...\n",
      "From (original): https://drive.google.com/uc?id=1rAQTZLL16TiCU5Pq1TZxNJ84JNw_TBKO\n",
      "From (redirected): https://drive.google.com/uc?id=1rAQTZLL16TiCU5Pq1TZxNJ84JNw_TBKO&confirm=t&uuid=e952f543-926b-4640-973b-eb6c841e01d8\n",
      "To: /teamspace/studios/this_studio/SitsSCD/embeddings_sorted.zip\n",
      "100%|█████████████████████████████████████████| 934M/934M [00:03<00:00, 261MB/s]\n",
      "Archive:  embeddings_sorted.zip\n",
      "  inflating: embeddings_sorted.csv   \n"
     ]
    }
   ],
   "source": [
    "!gdown 1rAQTZLL16TiCU5Pq1TZxNJ84JNw_TBKO\n",
    "!unzip embeddings_sorted.zip"
   ]
  }
 ],
 "metadata": {
  "kernelspec": {
   "display_name": "cloudspace",
   "language": "python",
   "name": "python3"
  },
  "language_info": {
   "codemirror_mode": {
    "name": "ipython",
    "version": 3
   },
   "file_extension": ".py",
   "mimetype": "text/x-python",
   "name": "python",
   "nbconvert_exporter": "python",
   "pygments_lexer": "ipython3",
   "version": "3.10.10"
  }
 },
 "nbformat": 4,
 "nbformat_minor": 5
}
